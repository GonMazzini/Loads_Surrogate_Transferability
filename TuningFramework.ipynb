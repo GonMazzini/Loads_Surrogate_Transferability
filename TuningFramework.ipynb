{
  "cells": [
    {
      "cell_type": "markdown",
      "metadata": {
        "id": "view-in-github",
        "colab_type": "text"
      },
      "source": [
        "<a href=\"https://colab.research.google.com/github/GonMazzini/Loads_Surrogate_Transferability/blob/main/TuningFramework.ipynb\" target=\"_parent\"><img src=\"https://colab.research.google.com/assets/colab-badge.svg\" alt=\"Open In Colab\"/></a>"
      ]
    },
    {
      "cell_type": "markdown",
      "metadata": {
        "id": "9P0l_d61zRnQ"
      },
      "source": [
        "Thits notebook is the MASTER notebook for running hyper-parameter tuning.\n",
        "\n",
        "\n",
        "> Section 1\n",
        "\n",
        "\n",
        "1.   Read data\n",
        "2.   Train-Val-Test split\n",
        "3.   Scale data\n",
        "\n",
        "\n"
      ]
    },
    {
      "cell_type": "code",
      "execution_count": 1,
      "metadata": {
        "colab": {
          "base_uri": "https://localhost:8080/",
          "height": 1000
        },
        "id": "l9b4V5nszS9-",
        "outputId": "4701d041-7bc2-4014-df4e-a59e026b955f"
      },
      "outputs": [
        {
          "output_type": "stream",
          "name": "stdout",
          "text": [
            "Collecting parameter-sherpa\n",
            "  Downloading parameter-sherpa-1.0.6.tar.gz (513 kB)\n",
            "\u001b[K     |████████████████████████████████| 513 kB 5.2 MB/s \n",
            "\u001b[?25hRequirement already satisfied: pandas>=0.20.3 in /usr/local/lib/python3.7/dist-packages (from parameter-sherpa) (1.3.5)\n",
            "Requirement already satisfied: pymongo>=3.5.1 in /usr/local/lib/python3.7/dist-packages (from parameter-sherpa) (4.0.2)\n",
            "Requirement already satisfied: numpy>=1.8.2 in /usr/local/lib/python3.7/dist-packages (from parameter-sherpa) (1.21.5)\n",
            "Requirement already satisfied: scipy>=1.0.0 in /usr/local/lib/python3.7/dist-packages (from parameter-sherpa) (1.4.1)\n",
            "Requirement already satisfied: scikit-learn>=0.19.1 in /usr/local/lib/python3.7/dist-packages (from parameter-sherpa) (1.0.2)\n",
            "Requirement already satisfied: flask>=0.12.2 in /usr/local/lib/python3.7/dist-packages (from parameter-sherpa) (1.1.4)\n",
            "Collecting GPyOpt>=1.2.5\n",
            "  Downloading GPyOpt-1.2.6.tar.gz (56 kB)\n",
            "\u001b[K     |████████████████████████████████| 56 kB 4.8 MB/s \n",
            "\u001b[?25hCollecting enum34\n",
            "  Downloading enum34-1.1.10-py3-none-any.whl (11 kB)\n",
            "Requirement already satisfied: matplotlib in /usr/local/lib/python3.7/dist-packages (from parameter-sherpa) (3.2.2)\n",
            "Requirement already satisfied: Werkzeug<2.0,>=0.15 in /usr/local/lib/python3.7/dist-packages (from flask>=0.12.2->parameter-sherpa) (1.0.1)\n",
            "Requirement already satisfied: Jinja2<3.0,>=2.10.1 in /usr/local/lib/python3.7/dist-packages (from flask>=0.12.2->parameter-sherpa) (2.11.3)\n",
            "Requirement already satisfied: click<8.0,>=5.1 in /usr/local/lib/python3.7/dist-packages (from flask>=0.12.2->parameter-sherpa) (7.1.2)\n",
            "Requirement already satisfied: itsdangerous<2.0,>=0.24 in /usr/local/lib/python3.7/dist-packages (from flask>=0.12.2->parameter-sherpa) (1.1.0)\n",
            "Collecting GPy>=1.8\n",
            "  Downloading GPy-1.10.0.tar.gz (959 kB)\n",
            "\u001b[K     |████████████████████████████████| 959 kB 37.0 MB/s \n",
            "\u001b[?25hRequirement already satisfied: six in /usr/local/lib/python3.7/dist-packages (from GPy>=1.8->GPyOpt>=1.2.5->parameter-sherpa) (1.15.0)\n",
            "Collecting paramz>=0.9.0\n",
            "  Downloading paramz-0.9.5.tar.gz (71 kB)\n",
            "\u001b[K     |████████████████████████████████| 71 kB 8.5 MB/s \n",
            "\u001b[?25hRequirement already satisfied: cython>=0.29 in /usr/local/lib/python3.7/dist-packages (from GPy>=1.8->GPyOpt>=1.2.5->parameter-sherpa) (0.29.28)\n",
            "Requirement already satisfied: MarkupSafe>=0.23 in /usr/local/lib/python3.7/dist-packages (from Jinja2<3.0,>=2.10.1->flask>=0.12.2->parameter-sherpa) (2.0.1)\n",
            "Requirement already satisfied: pytz>=2017.3 in /usr/local/lib/python3.7/dist-packages (from pandas>=0.20.3->parameter-sherpa) (2018.9)\n",
            "Requirement already satisfied: python-dateutil>=2.7.3 in /usr/local/lib/python3.7/dist-packages (from pandas>=0.20.3->parameter-sherpa) (2.8.2)\n",
            "Requirement already satisfied: decorator>=4.0.10 in /usr/local/lib/python3.7/dist-packages (from paramz>=0.9.0->GPy>=1.8->GPyOpt>=1.2.5->parameter-sherpa) (4.4.2)\n",
            "Requirement already satisfied: joblib>=0.11 in /usr/local/lib/python3.7/dist-packages (from scikit-learn>=0.19.1->parameter-sherpa) (1.1.0)\n",
            "Requirement already satisfied: threadpoolctl>=2.0.0 in /usr/local/lib/python3.7/dist-packages (from scikit-learn>=0.19.1->parameter-sherpa) (3.1.0)\n",
            "Requirement already satisfied: pyparsing!=2.0.4,!=2.1.2,!=2.1.6,>=2.0.1 in /usr/local/lib/python3.7/dist-packages (from matplotlib->parameter-sherpa) (3.0.7)\n",
            "Requirement already satisfied: cycler>=0.10 in /usr/local/lib/python3.7/dist-packages (from matplotlib->parameter-sherpa) (0.11.0)\n",
            "Requirement already satisfied: kiwisolver>=1.0.1 in /usr/local/lib/python3.7/dist-packages (from matplotlib->parameter-sherpa) (1.3.2)\n",
            "Building wheels for collected packages: parameter-sherpa, GPyOpt, GPy, paramz\n",
            "  Building wheel for parameter-sherpa (setup.py) ... \u001b[?25l\u001b[?25hdone\n",
            "  Created wheel for parameter-sherpa: filename=parameter_sherpa-1.0.6-py2.py3-none-any.whl size=542134 sha256=d086579ce206a51a790d5d3ff6b5eb64e2f6cc08c3f1b3cad708990cac6633d9\n",
            "  Stored in directory: /root/.cache/pip/wheels/96/d9/cb/99569566e5e9b3ef0265ba4cbce3ff16f7692988833aa942f5\n",
            "  Building wheel for GPyOpt (setup.py) ... \u001b[?25l\u001b[?25hdone\n",
            "  Created wheel for GPyOpt: filename=GPyOpt-1.2.6-py3-none-any.whl size=83609 sha256=a9e5abb6b622b5b9ff39add9f05ebda04b9178fbafce562b4181cca171a6e794\n",
            "  Stored in directory: /root/.cache/pip/wheels/e6/fa/d1/f9652b5af79f769a0ab74dbead7c7aea9a93c6bc74543fd3ec\n",
            "  Building wheel for GPy (setup.py) ... \u001b[?25l\u001b[?25hdone\n",
            "  Created wheel for GPy: filename=GPy-1.10.0-cp37-cp37m-linux_x86_64.whl size=2565096 sha256=44203cf56086012acc64656fd14a87016fd3c12a1051c6447a7fa86591d5e589\n",
            "  Stored in directory: /root/.cache/pip/wheels/f7/18/28/dd1ce0192a81b71a3b086fd952511d088b21e8359ea496860a\n",
            "  Building wheel for paramz (setup.py) ... \u001b[?25l\u001b[?25hdone\n",
            "  Created wheel for paramz: filename=paramz-0.9.5-py3-none-any.whl size=102566 sha256=5e23ec4a6e1ad8f6a55262a88369c7cfde776ce36aa21fb741c1fcd476a6aa1e\n",
            "  Stored in directory: /root/.cache/pip/wheels/c8/95/f5/ce28482da28162e6028c4b3a32c41d147395825b3cd62bc810\n",
            "Successfully built parameter-sherpa GPyOpt GPy paramz\n",
            "Installing collected packages: paramz, GPy, GPyOpt, enum34, parameter-sherpa\n",
            "Successfully installed GPy-1.10.0 GPyOpt-1.2.6 enum34-1.1.10 parameter-sherpa-1.0.6 paramz-0.9.5\n"
          ]
        },
        {
          "output_type": "display_data",
          "data": {
            "application/vnd.colab-display-data+json": {
              "pip_warning": {
                "packages": [
                  "enum"
                ]
              }
            }
          },
          "metadata": {}
        }
      ],
      "source": [
        "!pip install parameter-sherpa"
      ]
    },
    {
      "cell_type": "code",
      "execution_count": 2,
      "metadata": {
        "id": "Q2oZpZQIzoQT",
        "colab": {
          "base_uri": "https://localhost:8080/"
        },
        "outputId": "9d5399a1-a64d-4a3f-e658-587fe03d7720"
      },
      "outputs": [
        {
          "output_type": "stream",
          "name": "stdout",
          "text": [
            "GPU\n"
          ]
        }
      ],
      "source": [
        "# Import all required libraries\n",
        "import pandas as pd \n",
        "import numpy as np\n",
        "import math\n",
        "import matplotlib.pyplot as plt\n",
        "import seaborn as sns\n",
        "\n",
        "from sklearn import preprocessing\n",
        "from sklearn.model_selection import train_test_split\n",
        "from sklearn.metrics import mean_squared_error, r2_score\n",
        "\n",
        "import torch\n",
        "import torch.nn as nn\n",
        "import torch.nn.functional as F\n",
        "import torch.optim as optim\n",
        "from torch.utils.data import Dataset, DataLoader\n",
        "from tqdm import tqdm\n",
        "\n",
        "if torch.cuda.is_available():\n",
        "    device = torch.device(\"cuda:0\")\n",
        "    print(\"GPU\")\n",
        "else:\n",
        "    device = torch.device(\"cpu\")\n",
        "    print(\"CPU\")\n",
        "\n",
        "from __future__ import print_function\n",
        "import sherpa\n",
        "from sherpa.algorithms import Genetic\n",
        "import time\n",
        "from random import shuffle\n",
        "from google.colab import files"
      ]
    },
    {
      "cell_type": "markdown",
      "metadata": {
        "id": "nF2rjMCtzRnU"
      },
      "source": [
        "---\n",
        "---\n",
        "---\n",
        "---\n",
        "# Section 1:\n",
        "\n",
        "Section 1.1: Read data\n",
        "\n",
        "\n"
      ]
    },
    {
      "cell_type": "code",
      "execution_count": 3,
      "metadata": {
        "colab": {
          "base_uri": "https://localhost:8080/",
          "height": 194
        },
        "id": "W1kffmHZzRnV",
        "outputId": "43463ed7-fac3-4c74-e3a6-bb6311661342"
      },
      "outputs": [
        {
          "output_type": "execute_result",
          "data": {
            "text/plain": [
              "   Unnamed: 0  pointno          U    SigmaU     Alpha      MannL  MannGamma  \\\n",
              "0           0        1   4.000000  0.100000 -0.650000   7.500000   1.000000   \n",
              "1           1        2  10.150758  1.208656 -0.139692  48.470634   1.363636   \n",
              "\n",
              "   VeerDeltaPhi    TT_Mx_avg   TT_My_avg     TB_Mx_avg    TB_My_avg  \\\n",
              "0    -22.250000   747.561872  200.666288   6708.717789  8861.885588   \n",
              "1     -4.771217  3556.031457  676.339081  16692.647572  6329.099515   \n",
              "\n",
              "     TT_Mz_avg    MS_Mz_avg     BR_Mx_avg     BR_My_avg  \n",
              "0   819.209904    63.457528   4253.317748  15006.726860  \n",
              "1  3746.460605  1354.995442  10409.290476  16289.414152  "
            ],
            "text/html": [
              "\n",
              "  <div id=\"df-40100600-8b3e-4a16-b82c-95a5f1a7574c\">\n",
              "    <div class=\"colab-df-container\">\n",
              "      <div>\n",
              "<style scoped>\n",
              "    .dataframe tbody tr th:only-of-type {\n",
              "        vertical-align: middle;\n",
              "    }\n",
              "\n",
              "    .dataframe tbody tr th {\n",
              "        vertical-align: top;\n",
              "    }\n",
              "\n",
              "    .dataframe thead th {\n",
              "        text-align: right;\n",
              "    }\n",
              "</style>\n",
              "<table border=\"1\" class=\"dataframe\">\n",
              "  <thead>\n",
              "    <tr style=\"text-align: right;\">\n",
              "      <th></th>\n",
              "      <th>Unnamed: 0</th>\n",
              "      <th>pointno</th>\n",
              "      <th>U</th>\n",
              "      <th>SigmaU</th>\n",
              "      <th>Alpha</th>\n",
              "      <th>MannL</th>\n",
              "      <th>MannGamma</th>\n",
              "      <th>VeerDeltaPhi</th>\n",
              "      <th>TT_Mx_avg</th>\n",
              "      <th>TT_My_avg</th>\n",
              "      <th>TB_Mx_avg</th>\n",
              "      <th>TB_My_avg</th>\n",
              "      <th>TT_Mz_avg</th>\n",
              "      <th>MS_Mz_avg</th>\n",
              "      <th>BR_Mx_avg</th>\n",
              "      <th>BR_My_avg</th>\n",
              "    </tr>\n",
              "  </thead>\n",
              "  <tbody>\n",
              "    <tr>\n",
              "      <th>0</th>\n",
              "      <td>0</td>\n",
              "      <td>1</td>\n",
              "      <td>4.000000</td>\n",
              "      <td>0.100000</td>\n",
              "      <td>-0.650000</td>\n",
              "      <td>7.500000</td>\n",
              "      <td>1.000000</td>\n",
              "      <td>-22.250000</td>\n",
              "      <td>747.561872</td>\n",
              "      <td>200.666288</td>\n",
              "      <td>6708.717789</td>\n",
              "      <td>8861.885588</td>\n",
              "      <td>819.209904</td>\n",
              "      <td>63.457528</td>\n",
              "      <td>4253.317748</td>\n",
              "      <td>15006.726860</td>\n",
              "    </tr>\n",
              "    <tr>\n",
              "      <th>1</th>\n",
              "      <td>1</td>\n",
              "      <td>2</td>\n",
              "      <td>10.150758</td>\n",
              "      <td>1.208656</td>\n",
              "      <td>-0.139692</td>\n",
              "      <td>48.470634</td>\n",
              "      <td>1.363636</td>\n",
              "      <td>-4.771217</td>\n",
              "      <td>3556.031457</td>\n",
              "      <td>676.339081</td>\n",
              "      <td>16692.647572</td>\n",
              "      <td>6329.099515</td>\n",
              "      <td>3746.460605</td>\n",
              "      <td>1354.995442</td>\n",
              "      <td>10409.290476</td>\n",
              "      <td>16289.414152</td>\n",
              "    </tr>\n",
              "  </tbody>\n",
              "</table>\n",
              "</div>\n",
              "      <button class=\"colab-df-convert\" onclick=\"convertToInteractive('df-40100600-8b3e-4a16-b82c-95a5f1a7574c')\"\n",
              "              title=\"Convert this dataframe to an interactive table.\"\n",
              "              style=\"display:none;\">\n",
              "        \n",
              "  <svg xmlns=\"http://www.w3.org/2000/svg\" height=\"24px\"viewBox=\"0 0 24 24\"\n",
              "       width=\"24px\">\n",
              "    <path d=\"M0 0h24v24H0V0z\" fill=\"none\"/>\n",
              "    <path d=\"M18.56 5.44l.94 2.06.94-2.06 2.06-.94-2.06-.94-.94-2.06-.94 2.06-2.06.94zm-11 1L8.5 8.5l.94-2.06 2.06-.94-2.06-.94L8.5 2.5l-.94 2.06-2.06.94zm10 10l.94 2.06.94-2.06 2.06-.94-2.06-.94-.94-2.06-.94 2.06-2.06.94z\"/><path d=\"M17.41 7.96l-1.37-1.37c-.4-.4-.92-.59-1.43-.59-.52 0-1.04.2-1.43.59L10.3 9.45l-7.72 7.72c-.78.78-.78 2.05 0 2.83L4 21.41c.39.39.9.59 1.41.59.51 0 1.02-.2 1.41-.59l7.78-7.78 2.81-2.81c.8-.78.8-2.07 0-2.86zM5.41 20L4 18.59l7.72-7.72 1.47 1.35L5.41 20z\"/>\n",
              "  </svg>\n",
              "      </button>\n",
              "      \n",
              "  <style>\n",
              "    .colab-df-container {\n",
              "      display:flex;\n",
              "      flex-wrap:wrap;\n",
              "      gap: 12px;\n",
              "    }\n",
              "\n",
              "    .colab-df-convert {\n",
              "      background-color: #E8F0FE;\n",
              "      border: none;\n",
              "      border-radius: 50%;\n",
              "      cursor: pointer;\n",
              "      display: none;\n",
              "      fill: #1967D2;\n",
              "      height: 32px;\n",
              "      padding: 0 0 0 0;\n",
              "      width: 32px;\n",
              "    }\n",
              "\n",
              "    .colab-df-convert:hover {\n",
              "      background-color: #E2EBFA;\n",
              "      box-shadow: 0px 1px 2px rgba(60, 64, 67, 0.3), 0px 1px 3px 1px rgba(60, 64, 67, 0.15);\n",
              "      fill: #174EA6;\n",
              "    }\n",
              "\n",
              "    [theme=dark] .colab-df-convert {\n",
              "      background-color: #3B4455;\n",
              "      fill: #D2E3FC;\n",
              "    }\n",
              "\n",
              "    [theme=dark] .colab-df-convert:hover {\n",
              "      background-color: #434B5C;\n",
              "      box-shadow: 0px 1px 3px 1px rgba(0, 0, 0, 0.15);\n",
              "      filter: drop-shadow(0px 1px 2px rgba(0, 0, 0, 0.3));\n",
              "      fill: #FFFFFF;\n",
              "    }\n",
              "  </style>\n",
              "\n",
              "      <script>\n",
              "        const buttonEl =\n",
              "          document.querySelector('#df-40100600-8b3e-4a16-b82c-95a5f1a7574c button.colab-df-convert');\n",
              "        buttonEl.style.display =\n",
              "          google.colab.kernel.accessAllowed ? 'block' : 'none';\n",
              "\n",
              "        async function convertToInteractive(key) {\n",
              "          const element = document.querySelector('#df-40100600-8b3e-4a16-b82c-95a5f1a7574c');\n",
              "          const dataTable =\n",
              "            await google.colab.kernel.invokeFunction('convertToInteractive',\n",
              "                                                     [key], {});\n",
              "          if (!dataTable) return;\n",
              "\n",
              "          const docLinkHtml = 'Like what you see? Visit the ' +\n",
              "            '<a target=\"_blank\" href=https://colab.research.google.com/notebooks/data_table.ipynb>data table notebook</a>'\n",
              "            + ' to learn more about interactive tables.';\n",
              "          element.innerHTML = '';\n",
              "          dataTable['output_type'] = 'display_data';\n",
              "          await google.colab.output.renderOutput(dataTable, element);\n",
              "          const docLink = document.createElement('div');\n",
              "          docLink.innerHTML = docLinkHtml;\n",
              "          element.appendChild(docLink);\n",
              "        }\n",
              "      </script>\n",
              "    </div>\n",
              "  </div>\n",
              "  "
            ]
          },
          "metadata": {},
          "execution_count": 3
        }
      ],
      "source": [
        "df = pd.read_excel('LoadsDataBase_6D_Set123_FiltMinMaxCrit.xlsx') # Average the values from Set1,Set2 and Set3.\n",
        "df.head(2)\n",
        "# 0 : TT_Mx_avg# 1 : TT_My_avg# 2 : TB_Mx_avg# 3 : TB_My_avg# 4 : MS_Mz_avg# 5 : BR_Mx_avg# 6 : BR_My_avg# 7 : TT-Mz_avg"
      ]
    },
    {
      "cell_type": "markdown",
      "source": [
        "---\n",
        "Section 1.2: Train-Val-Test split."
      ],
      "metadata": {
        "id": "whDMqYOyKsWS"
      }
    },
    {
      "cell_type": "code",
      "execution_count": 4,
      "metadata": {
        "id": "gTxt7cZJzRnV"
      },
      "outputs": [],
      "source": [
        "X = df.iloc[:,2:8]\n",
        "y = df.iloc[:,8:]"
      ]
    },
    {
      "cell_type": "code",
      "execution_count": 5,
      "metadata": {
        "colab": {
          "base_uri": "https://localhost:8080/"
        },
        "id": "eX_LPh9wzRnW",
        "outputId": "5c68c9ca-a350-480e-fd64-9d7b8b4d82ca"
      },
      "outputs": [
        {
          "output_type": "stream",
          "name": "stdout",
          "text": [
            "The filtered data set consits on: 7664 entries.\n",
            "A total of 6131 will be used for training and validation.\n",
            "A total of 1533 will be used for testing the final model.\n"
          ]
        }
      ],
      "source": [
        "# Test split:\n",
        "X, X_test, y, y_test = train_test_split(X,y, test_size = 0.2, shuffle = True,  random_state = 101)\n",
        "\n",
        "print(f'The filtered data set consits on: {len(df)} entries.')\n",
        "print(f'A total of {len(X)} will be used for training and validation.')\n",
        "print(f'A total of {len(X_test)} will be used for testing the final model.')\n"
      ]
    },
    {
      "cell_type": "markdown",
      "metadata": {
        "id": "m6sjTHp4zRnW"
      },
      "source": [
        "---\n",
        "Section 1.3: Feature scaling"
      ]
    },
    {
      "cell_type": "code",
      "execution_count": 6,
      "metadata": {
        "id": "4nBJ9T1TzRnW"
      },
      "outputs": [],
      "source": [
        "feature_range = (0, 1)\n",
        "scaler_x = preprocessing.MinMaxScaler(feature_range=feature_range).fit(X)\n",
        "X_scaled = scaler_x.transform(X)"
      ]
    },
    {
      "cell_type": "markdown",
      "metadata": {
        "id": "fp5EhbtozRnW"
      },
      "source": [
        "### Separte between train and validation"
      ]
    },
    {
      "cell_type": "code",
      "execution_count": 7,
      "metadata": {
        "id": "_kR4yaL0zRnX"
      },
      "outputs": [],
      "source": [
        "X_train, X_val, y_train, y_val = train_test_split(X_scaled,y.values, test_size = 0.2, shuffle = True,  random_state = 101)"
      ]
    },
    {
      "cell_type": "code",
      "execution_count": 8,
      "metadata": {
        "colab": {
          "base_uri": "https://localhost:8080/"
        },
        "id": "ezp2exU1NR36",
        "outputId": "aac166fd-7ccf-4591-9940-d8701e90c302"
      },
      "outputs": [
        {
          "output_type": "stream",
          "name": "stdout",
          "text": [
            "A total of 4904 for training, 64.0 % of total data\n",
            "A total of 1227 for validation, 16.0 % of total data\n",
            "A total of 1533 for testing, 20.0 % of total data\n"
          ]
        }
      ],
      "source": [
        "# printing number of samples for train-validation-test\n",
        "print(f'A total of {y_train.shape[0]} for training, {round(100*y_train.shape[0]/len(df),1)} % of total data')\n",
        "print(f'A total of {y_val.shape[0]} for validation, {round(100*y_val.shape[0]/len(df),1)} % of total data')\n",
        "print(f'A total of {y_test.shape[0]} for testing, {round(100*y_test.shape[0]/len(df),1)} % of total data')"
      ]
    },
    {
      "cell_type": "markdown",
      "source": [
        "---\n",
        "---\n",
        "---\n",
        "---\n",
        "# Section 2: Model Selection\n",
        "\n",
        "\n",
        "\n",
        "> Select the model according to the hyper-parameter to be tuned. The following classes are available:\n",
        "\n",
        "\n",
        "\n",
        ">> *BaseModel* (**same hidden units per layer**)\n",
        "\n",
        "\n",
        "*   2 hidden layers with same number of hidden units.\n",
        "*   Weights initialized with Normal Kaimin (=He)\n",
        "*   ReLu act_fn\n",
        "\n",
        ">> *VariableLayers* (**just for number of hidden units**)\n",
        "\n",
        "\n",
        "*   Variable number of Hidden Layers\n",
        "*   Weights initialized with Normal Kaimin (=He)\n",
        "*   ReLu act_fn\n",
        "\n",
        ">> *VariableUnits* (**different units per layer**)\n",
        "\n",
        "*   Variable number of unis for HL 1 and HL 2.\n",
        "*   Weights initialized with Normal Kaimin (=He)\n",
        "*   ReLu act_fn\n",
        "\n",
        "\n",
        "\n",
        "\n"
      ],
      "metadata": {
        "id": "Bb7kqq74LuI_"
      }
    },
    {
      "cell_type": "code",
      "execution_count": 9,
      "metadata": {
        "id": "hVfzqEXbzRnX"
      },
      "outputs": [],
      "source": [
        "input_size = 6             # np.shape(X_train)[1]\n",
        "output_channels = 8        # np.shape(y_train)[1]\n",
        "# hidden_size = 50"
      ]
    },
    {
      "cell_type": "code",
      "execution_count": 10,
      "metadata": {
        "id": "hEj_xF9pzRnX"
      },
      "outputs": [],
      "source": [
        "class BaseModel(nn.Module):\n",
        "    \n",
        "    def __init__(self, hidden_size):   \n",
        "        super(BaseModel,self).__init__()  # inherit from the superclass Module\n",
        "        self.hidden_size = hidden_size\n",
        "        \n",
        "        self.fc1 = nn.Linear(in_features= input_size,\n",
        "                             out_features= self.hidden_size,                             \n",
        "                            bias = True)  \n",
        "        nn.init.kaiming_normal_(self.fc1.weight)\n",
        "\n",
        "        self.fc2 = nn.Linear(in_features = self.hidden_size, \n",
        "                             out_features = self.hidden_size,\n",
        "                            bias = True)\n",
        "        nn.init.kaiming_normal_(self.fc1.weight)\n",
        "\n",
        "        self.fc3 = nn.Linear(in_features = self.hidden_size, \n",
        "                             out_features = output_channels,\n",
        "                            bias = True)\n",
        "        nn.init.kaiming_normal_(self.fc1.weight)\n",
        "        \n",
        "    def forward(self,x):\n",
        "        \n",
        "        out = self.fc1(x)  \n",
        "        out = F.relu(out)\n",
        "        out = self.fc2(out)\n",
        "        out = F.relu(out)\n",
        "        out = self.fc3(out)                       #  torch.tanh(self.fc3(out))\n",
        "        \n",
        "        return out  "
      ]
    },
    {
      "cell_type": "code",
      "source": [
        "# TODO :: Add HE intializing (how to acces each module?)\n",
        "\n",
        "class VariableLayers(nn.Module):\n",
        "\n",
        "    \"\"\" A feedforward network designed for tuning number of layers and hidden units.\n",
        "    By @GonMazzini\"\"\"\n",
        "\n",
        "    def __init__(self, input_dim, output_dim, n_hidLayers, hidden_size):\n",
        "        super(VariableLayers, self).__init__()\n",
        "        self.input_dim = input_dim\n",
        "        self.output_dim = output_dim\n",
        "        self.hidden_size = hidden_size\n",
        "        self.n_hidLayers = n_hidLayers\n",
        "        current_dim = input_dim\n",
        "        self.layers = nn.ModuleList()\n",
        "        \n",
        "        for hdim in [self.hidden_size]*self.n_hidLayers:\n",
        "            self.layers.append(nn.Linear(current_dim, hdim))\n",
        "            current_dim = hdim\n",
        "        self.layers.append(nn.Linear(current_dim, output_dim))\n",
        "\n",
        "    def forward(self, x):\n",
        "        for layer in self.layers[:-1]:\n",
        "            x = F.relu(layer(x))\n",
        "        out = F.relu(self.layers[-1](x))\n",
        "        return out "
      ],
      "metadata": {
        "id": "ozA9yvk2MWuP"
      },
      "execution_count": 11,
      "outputs": []
    },
    {
      "cell_type": "code",
      "source": [
        "class VariableUnits(nn.Module):\n",
        "\n",
        "  def __init__(self, hidden_size1, hidden_size2):\n",
        "    super(VariableUnits, self).__init__()\n",
        "    self.hidden_size1 = hidden_size1\n",
        "    self.hidden_size2 = hidden_size2\n",
        "\n",
        "    self.fc1 = nn.Linear(in_features = input_size,\n",
        "                         out_features = self.hidden_size1,\n",
        "                         bias = True)\n",
        "    nn.init.kaiming_normal_(self.fc1.weight)\n",
        "\n",
        "    self.fc2 = nn.Linear(in_features = self.hidden_size1,\n",
        "                         out_features = self.hidden_size2,\n",
        "                         bias = True)\n",
        "    \n",
        "    nn.init.kaiming_normal_(self.fc2.weight)\n",
        "\n",
        "    self.fc3 = nn.Linear(in_features = self.hidden_size2,\n",
        "                      out_features = output_channels,\n",
        "                      bias = True)\n",
        "\n",
        "    nn.init.kaiming_normal_(self.fc3.weight)\n",
        "\n",
        "  def forward(self,x):\n",
        "        \n",
        "    out = self.fc1(x)  \n",
        "    out = F.relu(out)\n",
        "    out = self.fc2(out)\n",
        "    out = F.relu(out)\n",
        "    out = self.fc3(out)                       #  torch.tanh(self.fc3(out))\n",
        "    \n",
        "    return out  "
      ],
      "metadata": {
        "id": "Rzreeb4EclUQ"
      },
      "execution_count": 10,
      "outputs": []
    },
    {
      "cell_type": "markdown",
      "metadata": {
        "id": "xO8OBaiRzRnY"
      },
      "source": [
        "---\n",
        "---\n",
        "---\n",
        "---\n",
        "# Section 3: DataLoader \n",
        "\n",
        "\n",
        ">  Use the PyTorch DataLoader and Dataset utils.\n",
        "\n",
        "- DataLoader class combines a dataset and a sampler, and provides an iterable over the given dataset for training the model\n",
        "- Dataset: just an abstract class representing a :class:`Dataset`"
      ]
    },
    {
      "cell_type": "code",
      "execution_count": 11,
      "metadata": {
        "id": "guVFdZgMzRnY",
        "colab": {
          "base_uri": "https://localhost:8080/"
        },
        "outputId": "19dc8150-1e6d-4c0d-ecde-c3674faab864"
      },
      "outputs": [
        {
          "output_type": "stream",
          "name": "stdout",
          "text": [
            "tensor([0.9213, 0.5395, 0.2971, 0.1574, 0.7369, 0.3075], dtype=torch.float64) tensor([ 7116.1376,   808.7441, 21966.9989, 16383.7768,  7347.3186,   807.4632,\n",
            "        18567.6736, 16935.8620], dtype=torch.float64)\n"
          ]
        }
      ],
      "source": [
        "class FatigueLoads_TrainSet(Dataset):\n",
        "\n",
        "    def __init__(self):\n",
        "        self.n_samples = X_train.shape[0]\n",
        "        self.x_data = torch.from_numpy(X_train) # size [n_samples, n_features]\n",
        "        self.y_data = torch.from_numpy(y_train) # size [n_samples, 1]\n",
        "\n",
        "    # support indexing such that dataset[i] can be used to get i-th sample\n",
        "    def __getitem__(self, index):\n",
        "        return self.x_data[index], self.y_data[index]\n",
        "\n",
        "    # we can call len(dataset) to return the size\n",
        "    def __len__(self):\n",
        "        return self.n_samples\n",
        "    \n",
        "class FatigueLoads_ValidationSet(Dataset):\n",
        "\n",
        "    def __init__(self):\n",
        "        self.n_samples = X_val.shape[0]\n",
        "        self.x_data = torch.from_numpy(X_val) # size [n_samples, n_features]\n",
        "        self.y_data = torch.from_numpy(y_val) # size [n_samples, 1]\n",
        "\n",
        "    # support indexing such that dataset[i] can be used to get i-th sample\n",
        "    def __getitem__(self, index):\n",
        "        return self.x_data[index], self.y_data[index]\n",
        "\n",
        "    # we can call len(dataset) to return the size\n",
        "    def __len__(self):\n",
        "        return self.n_samples\n",
        "\n",
        "train_dataset = FatigueLoads_TrainSet()\n",
        "valid_dataset = FatigueLoads_ValidationSet()\n",
        "\n",
        "### Get first sample and unpack. \n",
        "# Note that the enviromental inputs are normalized using MinMaxScaler\n",
        "\n",
        "first_data = train_dataset[0]\n",
        "features, loads = first_data\n",
        "print(features, loads)"
      ]
    },
    {
      "cell_type": "markdown",
      "source": [
        "---\n",
        "---\n",
        "---\n",
        "---\n",
        "# Section 4: Select algorithm and parameters to define the Sherpa study.\n",
        "\n",
        "> Options\n",
        "\n",
        "\n",
        "1.   RandomSearch  :  [ lr , hu1   , hu2 ] \n",
        "2.   RandomSearch  :  [ lr ,n_lays , hu12 ]\n",
        "3.   GridSearch    : \n",
        "\n",
        "\n",
        "\n"
      ],
      "metadata": {
        "id": "-MYbe-sApQ4U"
      }
    },
    {
      "cell_type": "code",
      "execution_count": 43,
      "metadata": {
        "id": "5KXldvsU08MV",
        "colab": {
          "base_uri": "https://localhost:8080/"
        },
        "outputId": "1ddf98c5-dc7a-4588-9750-0ed8729f781c"
      },
      "outputs": [
        {
          "output_type": "stream",
          "name": "stderr",
          "text": [
            "INFO:sherpa.core:\n",
            "-------------------------------------------------------\n",
            "SHERPA Dashboard running. Access via\n",
            "http://172.28.0.2:8880 if on a cluster or\n",
            "http://localhost:8880 if running locally.\n",
            "-------------------------------------------------------\n"
          ]
        },
        {
          "output_type": "stream",
          "name": "stdout",
          "text": [
            " * Serving Flask app \"sherpa.app.app\" (lazy loading)\n",
            " * Environment: production\n",
            "\u001b[31m   WARNING: This is a development server. Do not use it in a production deployment.\u001b[0m\n",
            "\u001b[2m   Use a production WSGI server instead.\u001b[0m\n",
            " * Debug mode: on\n"
          ]
        }
      ],
      "source": [
        "# Option 1:RandomSearch\n",
        "# To be used with Model \"VariableUnits\"\n",
        "algorithm = sherpa.algorithms.RandomSearch(max_num_trials = 50)\n",
        "parameters = [sherpa.Ordinal('hidden_size1', [10,25,50,100]),\n",
        "              sherpa.Ordinal('hidden_size2', [10,25,50,100]),\n",
        "              sherpa.Ordinal('lr',[0.001,0.005,0.01,0.05,0.1])]\n",
        "\n",
        "study = sherpa.Study(parameters= parameters,\n",
        "                     algorithm=  algorithm,\n",
        "                     lower_is_better=True)"
      ]
    },
    {
      "cell_type": "code",
      "execution_count": 37,
      "metadata": {
        "id": "fXK9eWS81rHZ"
      },
      "outputs": [],
      "source": [
        "# Option 2: RandomSearch\n",
        "# To be used with \"VariableLayers\" \n",
        "# TODO\n",
        "algorithm = sherpa.algorithms.GridSearch(num_grid_points=3)\n",
        "parameters = [sherpa.Discrete('n_hidLayers', [2, 4]),\n",
        "              sherpa.Discrete('hidden_size', [16, 64])]\n",
        "\n",
        "study = sherpa.Study(parameters= parameters,\n",
        "                     algorithm=  algorithm,\n",
        "                     lower_is_better=True)"
      ]
    },
    {
      "cell_type": "code",
      "source": [
        "# Option 3: GridSearch\n",
        "# To be used with \"VariableLayers"
      ],
      "metadata": {
        "id": "Zbpn8YLK1geD"
      },
      "execution_count": 38,
      "outputs": []
    },
    {
      "cell_type": "code",
      "source": [
        "# Option 4: Bayesian Optimization\n",
        "# TODO"
      ],
      "metadata": {
        "id": "5m1lOVal1oW_"
      },
      "execution_count": null,
      "outputs": []
    },
    {
      "cell_type": "markdown",
      "source": [
        "---\n",
        "---\n",
        "---\n",
        "---\n",
        "# Section 5: Define the training parameters and sherpa study."
      ],
      "metadata": {
        "id": "SkRQqeK42zXV"
      }
    },
    {
      "cell_type": "code",
      "execution_count": 44,
      "metadata": {
        "id": "323d_UnszRnZ"
      },
      "outputs": [],
      "source": [
        "loss = nn.MSELoss()\n",
        "\n",
        "# list to store results\n",
        "train_losses , val_losses= [],[]\n",
        "\n",
        "batch_size = 128\n",
        "num_epochs = 1500\n",
        "\n",
        "num_batches_train = X_train.shape[0] // batch_size\n",
        "num_batches_test = X_val.shape[0] // batch_size\n",
        "\n",
        "train_loader = DataLoader(dataset=train_dataset,\n",
        "                          batch_size=batch_size,\n",
        "                          shuffle=True,\n",
        "                          num_workers=0)\n",
        "\n",
        "valid_loader = DataLoader(dataset=valid_dataset,\n",
        "                          batch_size=batch_size,\n",
        "                          shuffle=True,\n",
        "                          num_workers=0)"
      ]
    },
    {
      "cell_type": "markdown",
      "source": [
        "---\n",
        "---\n",
        "---\n",
        "---\n",
        "# Section 6: Select number of models to train for each paramter configuration. \n",
        "\n",
        "# TODO: add to.(device) to enable GPU.\n",
        "\n",
        "1.   Use first case for training just one model.\n",
        "2.   Use second case for training 3 models. \n",
        "3.   Add checkpoints to save results as df. \n",
        "\n"
      ],
      "metadata": {
        "id": "mBSxIhbW-au_"
      }
    },
    {
      "cell_type": "markdown",
      "source": [
        "## Before starting the hyper-param tuning check the following:\n",
        "\n",
        "\n",
        "1.   The frequency used to add_observation tu the study.\n",
        "2.   The frequency in which checkpoints are saved.\n",
        "\n"
      ],
      "metadata": {
        "id": "xhboIcdH1Dcu"
      }
    },
    {
      "cell_type": "code",
      "execution_count": null,
      "metadata": {
        "id": "GnOKI0762M9u"
      },
      "outputs": [],
      "source": [
        "# 1: To be used when Model = VariableUnits.\n",
        "# Just one model trained.\n",
        "for trial in study:\n",
        "\n",
        "  print(\"Trial {}:\\t{}\".format(trial.id, trial.parameters))\n",
        "  model = VariableUnits(trial.parameters['hidden_size1'],\n",
        "                        trial.parameters['hidden_size2'])\n",
        "  \n",
        "  optimizer = optim.Adam(model.parameters(), lr = trial.parameters['lr'])\n",
        "  \n",
        "  for epoch in range(num_epochs):\n",
        "    \n",
        "    model.train()\n",
        "    \n",
        "    for i, (inputs, loads) in enumerate(train_loader):\n",
        "        #print(features, loads)\n",
        "        \n",
        "        optimizer.zero_grad()                      # zeroize accumulated gradients in parameters             \n",
        "        \n",
        "        output = model(inputs.float())             # forwards pass       \n",
        "        batch_loss = loss(output, loads.float())   # compute loss for current batch\n",
        "        \n",
        "        batch_loss.backward()                      # compute the gradient of the loss wrt. model parameters\n",
        "        optimizer.step()                           # update weights according to the comptued gradients\n",
        "        \n",
        "    \n",
        "    epoch_loss_train = 0\n",
        "    epoch_loss_test = 0\n",
        "    model.eval()\n",
        "    \n",
        "    ##### Evaluate training\n",
        "    for i, (inputs, loads) in enumerate(train_loader):\n",
        "        \n",
        "        output = model(inputs.float())\n",
        "        \n",
        "        batch_loss_train = loss(output, loads.float())  # compute loss for the current batch\n",
        "        epoch_loss_train += batch_loss_train            # accumulate loss for the current epoch\n",
        "        \n",
        "        #print(f'Epoch: {epoch+1}/{num_epochs}  | Step {i+1}/{n_iterations}')\n",
        "    \n",
        "    ##### Evaluate validation    \n",
        "    for i, (inputs, loads) in enumerate(valid_loader):\n",
        "        \n",
        "        output = model(inputs.float())\n",
        "        \n",
        "        batch_loss_test = loss(output, loads.float())  # compute loss for the current batch\n",
        "        epoch_loss_test += batch_loss_test     # accumulate loss for the current epoch\n",
        "        \n",
        "        #print(f'Epoch: {epoch+1}/{num_epochs}  | Step {i+1}/{n_iterations}')\n",
        "    \n",
        "    if epoch % 20 == 0: \n",
        "        print(f'Epoch: {epoch+1}/{num_epochs} | Train loss: {epoch_loss_train/num_batches_train}       | Val loss {epoch_loss_test/num_batches_test}')\n",
        "\n",
        "        study.add_observation(trial=trial,\n",
        "                              iteration=epoch,\n",
        "                              objective=epoch_loss_test.detach().numpy())\n",
        "            \n",
        "    if study.should_trial_stop(trial):\n",
        "        break \n",
        "    # store in list for plotting the loss per epoch    \n",
        "    val_losses.append(epoch_loss_test/num_batches_test)  \n",
        "    train_losses.append(epoch_loss_train/num_batches_train)  \n",
        "\n",
        "  ## Section for saving checkpoints\n",
        "  if trial.id % 4 == 0:\n",
        "    print(f'DOWNLOADING CHECKPOINT FOR TRIAL ID NUMBER: {trial.id}')\n",
        "    study.results.to_csv(f'checkpoint_{trial.id}.csv')\n",
        "    files.download(f'checkpoint_{trial.id}.csv')\n",
        "  #study.finalize(trial)  "
      ]
    },
    {
      "cell_type": "markdown",
      "source": [
        "# Case 2: Use for training 3 models per configuration.\n",
        "\n",
        "\n",
        "\n",
        "> NOTE1: This implementation make use of collab GPU.\n",
        "> NOTE2: The add_observtaion is called more often in the last third of the training.\n"
      ],
      "metadata": {
        "id": "5tLiYZg7CvRM"
      }
    },
    {
      "cell_type": "code",
      "source": [
        "for trial in study:\n",
        "  print(\"Trial {}:\\t{}\".format(trial.id, trial.parameters))\n",
        "  model_A = VariableUnits(trial.parameters['hidden_size1'],\n",
        "                trial.parameters['hidden_size2'])\n",
        "  model_B = VariableUnits(trial.parameters['hidden_size1'],\n",
        "                trial.parameters['hidden_size2'])\n",
        "  model_C = VariableUnits(trial.parameters['hidden_size1'],\n",
        "                trial.parameters['hidden_size2'])\n",
        "\n",
        "  model_A.to(device)\n",
        "  model_B.to(device)\n",
        "  model_C.to(device)\n",
        "\n",
        "  #model.train()\n",
        "  optimizer_A = optim.Adam(model_A.parameters(), lr = trial.parameters['lr'])\n",
        "  optimizer_B = optim.Adam(model_B.parameters(), lr = trial.parameters['lr'])\n",
        "  optimizer_C = optim.Adam(model_C.parameters(), lr = trial.parameters['lr'])\n",
        "  \n",
        "  for epoch in range(num_epochs):\n",
        "    \n",
        "    model.train()\n",
        "    \n",
        "    for i, (inputs, loads) in enumerate(train_loader):\n",
        "        #print(features, loads)\n",
        "        \n",
        "        optimizer_A.zero_grad()                      # zeroize accumulated gradients in parameters             \n",
        "        optimizer_B.zero_grad()\n",
        "        optimizer_C.zero_grad()\n",
        "\n",
        "        output_A = model_A(inputs.float().to(device))             # forwards pass       \n",
        "        batch_loss_A = loss(output_A, loads.float().to(device))   # compute loss for current batch\n",
        "\n",
        "        batch_loss_A.backward()                      # compute the gradient of the loss wrt. model parameters\n",
        "        optimizer_A.step()                           # update weights according to the comptued gradients\n",
        "        \n",
        "        output_B = model_B(inputs.float().to(device))             # forwards pass       \n",
        "        batch_loss_B = loss(output_B, loads.float().to(device))   # compute loss for current batch\n",
        "        \n",
        "        batch_loss_B.backward()                      # compute the gradient of the loss wrt. model parameters\n",
        "        optimizer_B.step()                           # update weights according to the comptued gradients\n",
        "\n",
        "        output_C = model_C(inputs.float().to(device))             # forwards pass       \n",
        "        batch_loss_C = loss(output_C, loads.float().to(device))   # compute loss for current batch\n",
        "        \n",
        "        batch_loss_C.backward()                      # compute the gradient of the loss wrt. model parameters\n",
        "        optimizer_C.step()                           # update weights according to the comptued gradients\n",
        "        \n",
        "    epoch_loss_train_A, epoch_loss_test_A = 0 , 0\n",
        "    epoch_loss_train_B, epoch_loss_test_B = 0 , 0\n",
        "    epoch_loss_train_C, epoch_loss_test_C = 0 , 0\n",
        "  \n",
        "    ##### Evaluate training\n",
        "\n",
        "    for i, (inputs, loads) in enumerate(train_loader):\n",
        "        \n",
        "        output_A = model_A(inputs.float().to(device)) \n",
        "        output_B = model_B(inputs.float().to(device))\n",
        "        output_C = model_C(inputs.float().to(device))\n",
        "        \n",
        "        batch_loss_train_A = loss(output_A, loads.float().to(device))  # compute loss for the current batch\n",
        "        epoch_loss_train_A += batch_loss_train_A            # accumulate loss for the current epoch\n",
        "        \n",
        "        batch_loss_train_B = loss(output_B, loads.float().to(device))  # compute loss for the current batch\n",
        "        epoch_loss_train_B += batch_loss_train_B   \n",
        "\n",
        "        batch_loss_train_C = loss(output_C, loads.float().to(device))  # compute loss for the current batch\n",
        "        epoch_loss_train_C += batch_loss_train_C   \n",
        "\n",
        "    \n",
        "    ##### Evaluate validation    \n",
        "    for i, (inputs, loads) in enumerate(valid_loader):\n",
        "        \n",
        "        output_A = model_A(inputs.float().to(device))\n",
        "        output_B = model_B(inputs.float().to(device))\n",
        "        output_C = model_C(inputs.float().to(device))\n",
        "        \n",
        "        batch_loss_test_A = loss(output_A, loads.float().to(device))  # compute loss for the current batch\n",
        "        epoch_loss_test_A += batch_loss_test_A     # accumulate loss for the current epoch\n",
        "\n",
        "        batch_loss_test_B = loss(output_B, loads.float().to(device))  # compute loss for the current batch\n",
        "        epoch_loss_test_B += batch_loss_test_B     # accumulate loss for the current epoch\n",
        "\n",
        "        batch_loss_test_C = loss(output_C, loads.float().to(device))  # compute loss for the current batch\n",
        "        epoch_loss_test_C += batch_loss_test_C     # accumulate loss for the current epoch\n",
        "        \n",
        "        #print(f'Epoch: {epoch+1}/{num_epochs}  | Step {i+1}/{n_iterations}')\n",
        "    if epoch < num_epochs // (3/2):\n",
        "      # lower sampling freq \n",
        "      if epoch % 100 == 0:\n",
        "          print(f'Model A: Epoch: {epoch+1}/{num_epochs} |Train loss: {0.001*epoch_loss_train_A/num_batches_train:.0f}| Val loss {0.001*epoch_loss_test_A/num_batches_test:.0f}')\n",
        "          print(f'Model B: Epoch: {epoch+1}/{num_epochs} |Train loss: {0.001*epoch_loss_train_B/num_batches_train:.0f}| Val loss {0.001*epoch_loss_test_B/num_batches_test:.0f}')\n",
        "          print(f'Model C: Epoch: {epoch+1}/{num_epochs} |Train loss: {0.001*epoch_loss_train_C/num_batches_train:.0f}| Val loss {0.001*epoch_loss_test_C/num_batches_test:.0f}')\n",
        "        \n",
        "          study.add_observation(trial=trial,\n",
        "                                iteration=epoch,\n",
        "                                objective= [epoch_loss_test_A.cpu().detach().numpy(), \n",
        "                                            epoch_loss_test_B.cpu().detach().numpy(),\n",
        "                                            epoch_loss_test_C.cpu().detach().numpy()])\n",
        "      # higher sampling freq \n",
        "    else:\n",
        "      if epoch % 20 == 0: \n",
        "\n",
        "          print(f'Model A: Epoch: {epoch+1}/{num_epochs} |Train loss: {0.001*epoch_loss_train_A/num_batches_train:.0f}| Val loss {0.001*epoch_loss_test_A/num_batches_test:.0f}')\n",
        "          print(f'Model B: Epoch: {epoch+1}/{num_epochs} |Train loss: {0.001*epoch_loss_train_B/num_batches_train:.0f}| Val loss {0.001*epoch_loss_test_B/num_batches_test:.0f}')\n",
        "          print(f'Model C: Epoch: {epoch+1}/{num_epochs} |Train loss: {0.001*epoch_loss_train_C/num_batches_train:.0f}| Val loss {0.001*epoch_loss_test_C/num_batches_test:.0f}')\n",
        "        \n",
        "          study.add_observation(trial=trial,\n",
        "                                iteration=epoch,\n",
        "                                objective= [epoch_loss_test_A.cpu().detach().numpy(), \n",
        "                                            epoch_loss_test_B.cpu().detach().numpy(),\n",
        "                                            epoch_loss_test_C.cpu().detach().numpy()])  \n",
        "\n",
        "\n",
        "    if study.should_trial_stop(trial):\n",
        "        break \n",
        "\n",
        "  # SAVE CHECKPOINTS \n",
        "  if trial.id % 6 == 0:\n",
        "    print(f'DOWNLOADING CHECKPOINT FOR TRIAL ID NUMBER: {trial.id}')\n",
        "    study.results.to_csv(f'checkpoint_{trial.id}.csv')\n",
        "    files.download(f'checkpoint_{trial.id}.csv')\n",
        "  #study.finalize(trial) "
      ],
      "metadata": {
        "id": "jaiqy-3dCa0E",
        "outputId": "ad869e32-7657-4e57-b42e-147a8df68f04",
        "colab": {
          "base_uri": "https://localhost:8080/",
          "height": 1000
        }
      },
      "execution_count": 45,
      "outputs": [
        {
          "output_type": "stream",
          "name": "stdout",
          "text": [
            "Trial 1:\t{'hidden_size1': 25, 'hidden_size2': 50, 'lr': 0.05}\n",
            "Model A: Epoch: 1/1500 |Train loss: 42733| Val loss 46859\n",
            "Model B: Epoch: 1/1500 |Train loss: 41546| Val loss 45469\n",
            "Model C: Epoch: 1/1500 |Train loss: 41698| Val loss 45784\n",
            "Model A: Epoch: 21/1500 |Train loss: 10542| Val loss 11527\n",
            "Model B: Epoch: 21/1500 |Train loss: 6001| Val loss 6506\n",
            "Model C: Epoch: 21/1500 |Train loss: 11672| Val loss 12698\n",
            "Model A: Epoch: 41/1500 |Train loss: 4841| Val loss 5097\n",
            "Model B: Epoch: 41/1500 |Train loss: 4317| Val loss 4595\n",
            "Model C: Epoch: 41/1500 |Train loss: 4682| Val loss 4979\n",
            "Model A: Epoch: 61/1500 |Train loss: 4166| Val loss 4518\n",
            "Model B: Epoch: 61/1500 |Train loss: 3109| Val loss 3351\n",
            "Model C: Epoch: 61/1500 |Train loss: 3961| Val loss 4280\n",
            "Model A: Epoch: 81/1500 |Train loss: 3004| Val loss 3217\n",
            "Model B: Epoch: 81/1500 |Train loss: 2409| Val loss 2573\n",
            "Model C: Epoch: 81/1500 |Train loss: 2912| Val loss 3138\n",
            "Model A: Epoch: 101/1500 |Train loss: 2254| Val loss 2392\n",
            "Model B: Epoch: 101/1500 |Train loss: 2242| Val loss 2396\n",
            "Model C: Epoch: 101/1500 |Train loss: 2371| Val loss 2579\n",
            "Model A: Epoch: 121/1500 |Train loss: 1918| Val loss 2030\n",
            "Model B: Epoch: 121/1500 |Train loss: 2178| Val loss 2310\n",
            "Model C: Epoch: 121/1500 |Train loss: 2230| Val loss 2382\n",
            "Model A: Epoch: 141/1500 |Train loss: 1726| Val loss 1831\n",
            "Model B: Epoch: 141/1500 |Train loss: 2089| Val loss 2185\n",
            "Model C: Epoch: 141/1500 |Train loss: 2004| Val loss 2122\n",
            "Model A: Epoch: 161/1500 |Train loss: 1622| Val loss 1770\n",
            "Model B: Epoch: 161/1500 |Train loss: 2031| Val loss 2185\n",
            "Model C: Epoch: 161/1500 |Train loss: 1620| Val loss 1751\n",
            "Model A: Epoch: 181/1500 |Train loss: 1497| Val loss 1637\n",
            "Model B: Epoch: 181/1500 |Train loss: 1939| Val loss 2106\n",
            "Model C: Epoch: 181/1500 |Train loss: 1406| Val loss 1495\n",
            "Model A: Epoch: 201/1500 |Train loss: 1265| Val loss 1395\n",
            "Model B: Epoch: 201/1500 |Train loss: 1593| Val loss 1707\n",
            "Model C: Epoch: 201/1500 |Train loss: 1235| Val loss 1320\n",
            "Model A: Epoch: 221/1500 |Train loss: 1009| Val loss 1155\n",
            "Model B: Epoch: 221/1500 |Train loss: 1364| Val loss 1486\n",
            "Model C: Epoch: 221/1500 |Train loss: 1096| Val loss 1187\n",
            "Model A: Epoch: 241/1500 |Train loss: 938| Val loss 1067\n",
            "Model B: Epoch: 241/1500 |Train loss: 1205| Val loss 1339\n",
            "Model C: Epoch: 241/1500 |Train loss: 973| Val loss 1081\n",
            "Model A: Epoch: 261/1500 |Train loss: 878| Val loss 1031\n",
            "Model B: Epoch: 261/1500 |Train loss: 925| Val loss 1046\n",
            "Model C: Epoch: 261/1500 |Train loss: 861| Val loss 958\n",
            "Model A: Epoch: 281/1500 |Train loss: 749| Val loss 892\n",
            "Model B: Epoch: 281/1500 |Train loss: 937| Val loss 1080\n",
            "Model C: Epoch: 281/1500 |Train loss: 815| Val loss 937\n",
            "Model A: Epoch: 301/1500 |Train loss: 771| Val loss 937\n",
            "Model B: Epoch: 301/1500 |Train loss: 772| Val loss 888\n",
            "Model C: Epoch: 301/1500 |Train loss: 791| Val loss 935\n",
            "Model A: Epoch: 321/1500 |Train loss: 721| Val loss 844\n",
            "Model B: Epoch: 321/1500 |Train loss: 725| Val loss 829\n",
            "Model C: Epoch: 321/1500 |Train loss: 773| Val loss 887\n",
            "Model A: Epoch: 341/1500 |Train loss: 705| Val loss 869\n",
            "Model B: Epoch: 341/1500 |Train loss: 661| Val loss 793\n",
            "Model C: Epoch: 341/1500 |Train loss: 732| Val loss 874\n",
            "Model A: Epoch: 361/1500 |Train loss: 683| Val loss 832\n",
            "Model B: Epoch: 361/1500 |Train loss: 667| Val loss 782\n",
            "Model C: Epoch: 361/1500 |Train loss: 736| Val loss 858\n",
            "Model A: Epoch: 381/1500 |Train loss: 636| Val loss 775\n",
            "Model B: Epoch: 381/1500 |Train loss: 635| Val loss 747\n",
            "Model C: Epoch: 381/1500 |Train loss: 688| Val loss 823\n",
            "Model A: Epoch: 401/1500 |Train loss: 606| Val loss 769\n",
            "Model B: Epoch: 401/1500 |Train loss: 613| Val loss 753\n",
            "Model C: Epoch: 401/1500 |Train loss: 677| Val loss 830\n",
            "Model A: Epoch: 421/1500 |Train loss: 569| Val loss 701\n",
            "Model B: Epoch: 421/1500 |Train loss: 581| Val loss 689\n",
            "Model C: Epoch: 421/1500 |Train loss: 659| Val loss 788\n",
            "Model A: Epoch: 441/1500 |Train loss: 597| Val loss 723\n",
            "Model B: Epoch: 441/1500 |Train loss: 589| Val loss 701\n",
            "Model C: Epoch: 441/1500 |Train loss: 638| Val loss 764\n",
            "Model A: Epoch: 461/1500 |Train loss: 568| Val loss 695\n",
            "Model B: Epoch: 461/1500 |Train loss: 569| Val loss 685\n",
            "Model C: Epoch: 461/1500 |Train loss: 666| Val loss 801\n",
            "Model A: Epoch: 481/1500 |Train loss: 589| Val loss 733\n",
            "Model B: Epoch: 481/1500 |Train loss: 558| Val loss 687\n",
            "Model C: Epoch: 481/1500 |Train loss: 729| Val loss 881\n",
            "Model A: Epoch: 501/1500 |Train loss: 518| Val loss 658\n",
            "Model B: Epoch: 501/1500 |Train loss: 503| Val loss 634\n",
            "Model C: Epoch: 501/1500 |Train loss: 604| Val loss 749\n",
            "Model A: Epoch: 521/1500 |Train loss: 526| Val loss 658\n",
            "Model B: Epoch: 521/1500 |Train loss: 525| Val loss 637\n",
            "Model C: Epoch: 521/1500 |Train loss: 612| Val loss 730\n",
            "Model A: Epoch: 541/1500 |Train loss: 515| Val loss 647\n",
            "Model B: Epoch: 541/1500 |Train loss: 519| Val loss 665\n",
            "Model C: Epoch: 541/1500 |Train loss: 577| Val loss 720\n",
            "Model A: Epoch: 561/1500 |Train loss: 525| Val loss 677\n",
            "Model B: Epoch: 561/1500 |Train loss: 519| Val loss 656\n",
            "Model C: Epoch: 561/1500 |Train loss: 613| Val loss 766\n",
            "Model A: Epoch: 581/1500 |Train loss: 507| Val loss 647\n",
            "Model B: Epoch: 581/1500 |Train loss: 475| Val loss 598\n",
            "Model C: Epoch: 581/1500 |Train loss: 570| Val loss 703\n",
            "Model A: Epoch: 601/1500 |Train loss: 510| Val loss 634\n",
            "Model B: Epoch: 601/1500 |Train loss: 520| Val loss 639\n",
            "Model C: Epoch: 601/1500 |Train loss: 564| Val loss 692\n",
            "Model A: Epoch: 621/1500 |Train loss: 546| Val loss 688\n",
            "Model B: Epoch: 621/1500 |Train loss: 485| Val loss 621\n",
            "Model C: Epoch: 621/1500 |Train loss: 548| Val loss 690\n",
            "Model A: Epoch: 641/1500 |Train loss: 484| Val loss 608\n",
            "Model B: Epoch: 641/1500 |Train loss: 467| Val loss 579\n",
            "Model C: Epoch: 641/1500 |Train loss: 541| Val loss 661\n",
            "Model A: Epoch: 661/1500 |Train loss: 590| Val loss 741\n",
            "Model B: Epoch: 661/1500 |Train loss: 513| Val loss 660\n",
            "Model C: Epoch: 661/1500 |Train loss: 564| Val loss 706\n",
            "Model A: Epoch: 681/1500 |Train loss: 496| Val loss 652\n",
            "Model B: Epoch: 681/1500 |Train loss: 469| Val loss 599\n",
            "Model C: Epoch: 681/1500 |Train loss: 538| Val loss 677\n",
            "Model A: Epoch: 701/1500 |Train loss: 482| Val loss 610\n",
            "Model B: Epoch: 701/1500 |Train loss: 451| Val loss 585\n",
            "Model C: Epoch: 701/1500 |Train loss: 524| Val loss 649\n",
            "Model A: Epoch: 721/1500 |Train loss: 487| Val loss 612\n",
            "Model B: Epoch: 721/1500 |Train loss: 465| Val loss 570\n",
            "Model C: Epoch: 721/1500 |Train loss: 510| Val loss 631\n",
            "Model A: Epoch: 741/1500 |Train loss: 492| Val loss 638\n",
            "Model B: Epoch: 741/1500 |Train loss: 482| Val loss 621\n",
            "Model C: Epoch: 741/1500 |Train loss: 574| Val loss 713\n",
            "Model A: Epoch: 761/1500 |Train loss: 473| Val loss 605\n",
            "Model B: Epoch: 761/1500 |Train loss: 433| Val loss 552\n",
            "Model C: Epoch: 761/1500 |Train loss: 509| Val loss 632\n",
            "Model A: Epoch: 781/1500 |Train loss: 478| Val loss 620\n",
            "Model B: Epoch: 781/1500 |Train loss: 457| Val loss 579\n",
            "Model C: Epoch: 781/1500 |Train loss: 546| Val loss 658\n",
            "Model A: Epoch: 801/1500 |Train loss: 557| Val loss 696\n",
            "Model B: Epoch: 801/1500 |Train loss: 462| Val loss 578\n",
            "Model C: Epoch: 801/1500 |Train loss: 556| Val loss 689\n",
            "Model A: Epoch: 821/1500 |Train loss: 492| Val loss 626\n",
            "Model B: Epoch: 821/1500 |Train loss: 437| Val loss 562\n",
            "Model C: Epoch: 821/1500 |Train loss: 566| Val loss 693\n",
            "Model A: Epoch: 841/1500 |Train loss: 476| Val loss 632\n",
            "Model B: Epoch: 841/1500 |Train loss: 417| Val loss 543\n",
            "Model C: Epoch: 841/1500 |Train loss: 502| Val loss 637\n",
            "Model A: Epoch: 861/1500 |Train loss: 468| Val loss 598\n",
            "Model B: Epoch: 861/1500 |Train loss: 396| Val loss 517\n",
            "Model C: Epoch: 861/1500 |Train loss: 494| Val loss 625\n",
            "Model A: Epoch: 881/1500 |Train loss: 471| Val loss 590\n",
            "Model B: Epoch: 881/1500 |Train loss: 398| Val loss 517\n",
            "Model C: Epoch: 881/1500 |Train loss: 492| Val loss 617\n",
            "Model A: Epoch: 901/1500 |Train loss: 466| Val loss 606\n",
            "Model B: Epoch: 901/1500 |Train loss: 390| Val loss 519\n",
            "Model C: Epoch: 901/1500 |Train loss: 518| Val loss 658\n",
            "Model A: Epoch: 921/1500 |Train loss: 446| Val loss 589\n",
            "Model B: Epoch: 921/1500 |Train loss: 382| Val loss 511\n",
            "Model C: Epoch: 921/1500 |Train loss: 489| Val loss 629\n",
            "Model A: Epoch: 941/1500 |Train loss: 480| Val loss 642\n",
            "Model B: Epoch: 941/1500 |Train loss: 407| Val loss 550\n",
            "Model C: Epoch: 941/1500 |Train loss: 509| Val loss 654\n",
            "Model A: Epoch: 961/1500 |Train loss: 473| Val loss 605\n",
            "Model B: Epoch: 961/1500 |Train loss: 393| Val loss 518\n",
            "Model C: Epoch: 961/1500 |Train loss: 468| Val loss 614\n",
            "Model A: Epoch: 981/1500 |Train loss: 459| Val loss 587\n",
            "Model B: Epoch: 981/1500 |Train loss: 380| Val loss 496\n",
            "Model C: Epoch: 981/1500 |Train loss: 481| Val loss 610\n",
            "Model A: Epoch: 1001/1500 |Train loss: 438| Val loss 562\n",
            "Model B: Epoch: 1001/1500 |Train loss: 400| Val loss 522\n",
            "Model C: Epoch: 1001/1500 |Train loss: 458| Val loss 589\n",
            "Model A: Epoch: 1101/1500 |Train loss: 499| Val loss 655\n",
            "Model B: Epoch: 1101/1500 |Train loss: 407| Val loss 566\n",
            "Model C: Epoch: 1101/1500 |Train loss: 474| Val loss 636\n"
          ]
        },
        {
          "output_type": "error",
          "ename": "KeyboardInterrupt",
          "evalue": "ignored",
          "traceback": [
            "\u001b[0;31m---------------------------------------------------------------------------\u001b[0m",
            "\u001b[0;31mKeyboardInterrupt\u001b[0m                         Traceback (most recent call last)",
            "\u001b[0;32m<ipython-input-45-1aa12df7ee5f>\u001b[0m in \u001b[0;36m<module>\u001b[0;34m()\u001b[0m\n\u001b[1;32m     21\u001b[0m     \u001b[0mmodel\u001b[0m\u001b[0;34m.\u001b[0m\u001b[0mtrain\u001b[0m\u001b[0;34m(\u001b[0m\u001b[0;34m)\u001b[0m\u001b[0;34m\u001b[0m\u001b[0;34m\u001b[0m\u001b[0m\n\u001b[1;32m     22\u001b[0m \u001b[0;34m\u001b[0m\u001b[0m\n\u001b[0;32m---> 23\u001b[0;31m     \u001b[0;32mfor\u001b[0m \u001b[0mi\u001b[0m\u001b[0;34m,\u001b[0m \u001b[0;34m(\u001b[0m\u001b[0minputs\u001b[0m\u001b[0;34m,\u001b[0m \u001b[0mloads\u001b[0m\u001b[0;34m)\u001b[0m \u001b[0;32min\u001b[0m \u001b[0menumerate\u001b[0m\u001b[0;34m(\u001b[0m\u001b[0mtrain_loader\u001b[0m\u001b[0;34m)\u001b[0m\u001b[0;34m:\u001b[0m\u001b[0;34m\u001b[0m\u001b[0;34m\u001b[0m\u001b[0m\n\u001b[0m\u001b[1;32m     24\u001b[0m         \u001b[0;31m#print(features, loads)\u001b[0m\u001b[0;34m\u001b[0m\u001b[0;34m\u001b[0m\u001b[0;34m\u001b[0m\u001b[0m\n\u001b[1;32m     25\u001b[0m \u001b[0;34m\u001b[0m\u001b[0m\n",
            "\u001b[0;32m/usr/local/lib/python3.7/dist-packages/torch/utils/data/dataloader.py\u001b[0m in \u001b[0;36m__next__\u001b[0;34m(self)\u001b[0m\n\u001b[1;32m    519\u001b[0m             \u001b[0;32mif\u001b[0m \u001b[0mself\u001b[0m\u001b[0;34m.\u001b[0m\u001b[0m_sampler_iter\u001b[0m \u001b[0;32mis\u001b[0m \u001b[0;32mNone\u001b[0m\u001b[0;34m:\u001b[0m\u001b[0;34m\u001b[0m\u001b[0;34m\u001b[0m\u001b[0m\n\u001b[1;32m    520\u001b[0m                 \u001b[0mself\u001b[0m\u001b[0;34m.\u001b[0m\u001b[0m_reset\u001b[0m\u001b[0;34m(\u001b[0m\u001b[0;34m)\u001b[0m\u001b[0;34m\u001b[0m\u001b[0;34m\u001b[0m\u001b[0m\n\u001b[0;32m--> 521\u001b[0;31m             \u001b[0mdata\u001b[0m \u001b[0;34m=\u001b[0m \u001b[0mself\u001b[0m\u001b[0;34m.\u001b[0m\u001b[0m_next_data\u001b[0m\u001b[0;34m(\u001b[0m\u001b[0;34m)\u001b[0m\u001b[0;34m\u001b[0m\u001b[0;34m\u001b[0m\u001b[0m\n\u001b[0m\u001b[1;32m    522\u001b[0m             \u001b[0mself\u001b[0m\u001b[0;34m.\u001b[0m\u001b[0m_num_yielded\u001b[0m \u001b[0;34m+=\u001b[0m \u001b[0;36m1\u001b[0m\u001b[0;34m\u001b[0m\u001b[0;34m\u001b[0m\u001b[0m\n\u001b[1;32m    523\u001b[0m             \u001b[0;32mif\u001b[0m \u001b[0mself\u001b[0m\u001b[0;34m.\u001b[0m\u001b[0m_dataset_kind\u001b[0m \u001b[0;34m==\u001b[0m \u001b[0m_DatasetKind\u001b[0m\u001b[0;34m.\u001b[0m\u001b[0mIterable\u001b[0m \u001b[0;32mand\u001b[0m\u001b[0;31m \u001b[0m\u001b[0;31m\\\u001b[0m\u001b[0;34m\u001b[0m\u001b[0;34m\u001b[0m\u001b[0m\n",
            "\u001b[0;32m/usr/local/lib/python3.7/dist-packages/torch/utils/data/dataloader.py\u001b[0m in \u001b[0;36m_next_data\u001b[0;34m(self)\u001b[0m\n\u001b[1;32m    559\u001b[0m     \u001b[0;32mdef\u001b[0m \u001b[0m_next_data\u001b[0m\u001b[0;34m(\u001b[0m\u001b[0mself\u001b[0m\u001b[0;34m)\u001b[0m\u001b[0;34m:\u001b[0m\u001b[0;34m\u001b[0m\u001b[0;34m\u001b[0m\u001b[0m\n\u001b[1;32m    560\u001b[0m         \u001b[0mindex\u001b[0m \u001b[0;34m=\u001b[0m \u001b[0mself\u001b[0m\u001b[0;34m.\u001b[0m\u001b[0m_next_index\u001b[0m\u001b[0;34m(\u001b[0m\u001b[0;34m)\u001b[0m  \u001b[0;31m# may raise StopIteration\u001b[0m\u001b[0;34m\u001b[0m\u001b[0;34m\u001b[0m\u001b[0m\n\u001b[0;32m--> 561\u001b[0;31m         \u001b[0mdata\u001b[0m \u001b[0;34m=\u001b[0m \u001b[0mself\u001b[0m\u001b[0;34m.\u001b[0m\u001b[0m_dataset_fetcher\u001b[0m\u001b[0;34m.\u001b[0m\u001b[0mfetch\u001b[0m\u001b[0;34m(\u001b[0m\u001b[0mindex\u001b[0m\u001b[0;34m)\u001b[0m  \u001b[0;31m# may raise StopIteration\u001b[0m\u001b[0;34m\u001b[0m\u001b[0;34m\u001b[0m\u001b[0m\n\u001b[0m\u001b[1;32m    562\u001b[0m         \u001b[0;32mif\u001b[0m \u001b[0mself\u001b[0m\u001b[0;34m.\u001b[0m\u001b[0m_pin_memory\u001b[0m\u001b[0;34m:\u001b[0m\u001b[0;34m\u001b[0m\u001b[0;34m\u001b[0m\u001b[0m\n\u001b[1;32m    563\u001b[0m             \u001b[0mdata\u001b[0m \u001b[0;34m=\u001b[0m \u001b[0m_utils\u001b[0m\u001b[0;34m.\u001b[0m\u001b[0mpin_memory\u001b[0m\u001b[0;34m.\u001b[0m\u001b[0mpin_memory\u001b[0m\u001b[0;34m(\u001b[0m\u001b[0mdata\u001b[0m\u001b[0;34m)\u001b[0m\u001b[0;34m\u001b[0m\u001b[0;34m\u001b[0m\u001b[0m\n",
            "\u001b[0;32m/usr/local/lib/python3.7/dist-packages/torch/utils/data/_utils/fetch.py\u001b[0m in \u001b[0;36mfetch\u001b[0;34m(self, possibly_batched_index)\u001b[0m\n\u001b[1;32m     47\u001b[0m     \u001b[0;32mdef\u001b[0m \u001b[0mfetch\u001b[0m\u001b[0;34m(\u001b[0m\u001b[0mself\u001b[0m\u001b[0;34m,\u001b[0m \u001b[0mpossibly_batched_index\u001b[0m\u001b[0;34m)\u001b[0m\u001b[0;34m:\u001b[0m\u001b[0;34m\u001b[0m\u001b[0;34m\u001b[0m\u001b[0m\n\u001b[1;32m     48\u001b[0m         \u001b[0;32mif\u001b[0m \u001b[0mself\u001b[0m\u001b[0;34m.\u001b[0m\u001b[0mauto_collation\u001b[0m\u001b[0;34m:\u001b[0m\u001b[0;34m\u001b[0m\u001b[0;34m\u001b[0m\u001b[0m\n\u001b[0;32m---> 49\u001b[0;31m             \u001b[0mdata\u001b[0m \u001b[0;34m=\u001b[0m \u001b[0;34m[\u001b[0m\u001b[0mself\u001b[0m\u001b[0;34m.\u001b[0m\u001b[0mdataset\u001b[0m\u001b[0;34m[\u001b[0m\u001b[0midx\u001b[0m\u001b[0;34m]\u001b[0m \u001b[0;32mfor\u001b[0m \u001b[0midx\u001b[0m \u001b[0;32min\u001b[0m \u001b[0mpossibly_batched_index\u001b[0m\u001b[0;34m]\u001b[0m\u001b[0;34m\u001b[0m\u001b[0;34m\u001b[0m\u001b[0m\n\u001b[0m\u001b[1;32m     50\u001b[0m         \u001b[0;32melse\u001b[0m\u001b[0;34m:\u001b[0m\u001b[0;34m\u001b[0m\u001b[0;34m\u001b[0m\u001b[0m\n\u001b[1;32m     51\u001b[0m             \u001b[0mdata\u001b[0m \u001b[0;34m=\u001b[0m \u001b[0mself\u001b[0m\u001b[0;34m.\u001b[0m\u001b[0mdataset\u001b[0m\u001b[0;34m[\u001b[0m\u001b[0mpossibly_batched_index\u001b[0m\u001b[0;34m]\u001b[0m\u001b[0;34m\u001b[0m\u001b[0;34m\u001b[0m\u001b[0m\n",
            "\u001b[0;32m/usr/local/lib/python3.7/dist-packages/torch/utils/data/_utils/fetch.py\u001b[0m in \u001b[0;36m<listcomp>\u001b[0;34m(.0)\u001b[0m\n\u001b[1;32m     47\u001b[0m     \u001b[0;32mdef\u001b[0m \u001b[0mfetch\u001b[0m\u001b[0;34m(\u001b[0m\u001b[0mself\u001b[0m\u001b[0;34m,\u001b[0m \u001b[0mpossibly_batched_index\u001b[0m\u001b[0;34m)\u001b[0m\u001b[0;34m:\u001b[0m\u001b[0;34m\u001b[0m\u001b[0;34m\u001b[0m\u001b[0m\n\u001b[1;32m     48\u001b[0m         \u001b[0;32mif\u001b[0m \u001b[0mself\u001b[0m\u001b[0;34m.\u001b[0m\u001b[0mauto_collation\u001b[0m\u001b[0;34m:\u001b[0m\u001b[0;34m\u001b[0m\u001b[0;34m\u001b[0m\u001b[0m\n\u001b[0;32m---> 49\u001b[0;31m             \u001b[0mdata\u001b[0m \u001b[0;34m=\u001b[0m \u001b[0;34m[\u001b[0m\u001b[0mself\u001b[0m\u001b[0;34m.\u001b[0m\u001b[0mdataset\u001b[0m\u001b[0;34m[\u001b[0m\u001b[0midx\u001b[0m\u001b[0;34m]\u001b[0m \u001b[0;32mfor\u001b[0m \u001b[0midx\u001b[0m \u001b[0;32min\u001b[0m \u001b[0mpossibly_batched_index\u001b[0m\u001b[0;34m]\u001b[0m\u001b[0;34m\u001b[0m\u001b[0;34m\u001b[0m\u001b[0m\n\u001b[0m\u001b[1;32m     50\u001b[0m         \u001b[0;32melse\u001b[0m\u001b[0;34m:\u001b[0m\u001b[0;34m\u001b[0m\u001b[0;34m\u001b[0m\u001b[0m\n\u001b[1;32m     51\u001b[0m             \u001b[0mdata\u001b[0m \u001b[0;34m=\u001b[0m \u001b[0mself\u001b[0m\u001b[0;34m.\u001b[0m\u001b[0mdataset\u001b[0m\u001b[0;34m[\u001b[0m\u001b[0mpossibly_batched_index\u001b[0m\u001b[0;34m]\u001b[0m\u001b[0;34m\u001b[0m\u001b[0;34m\u001b[0m\u001b[0m\n",
            "\u001b[0;32m<ipython-input-11-a2dd68d14351>\u001b[0m in \u001b[0;36m__getitem__\u001b[0;34m(self, index)\u001b[0m\n\u001b[1;32m      8\u001b[0m     \u001b[0;31m# support indexing such that dataset[i] can be used to get i-th sample\u001b[0m\u001b[0;34m\u001b[0m\u001b[0;34m\u001b[0m\u001b[0;34m\u001b[0m\u001b[0m\n\u001b[1;32m      9\u001b[0m     \u001b[0;32mdef\u001b[0m \u001b[0m__getitem__\u001b[0m\u001b[0;34m(\u001b[0m\u001b[0mself\u001b[0m\u001b[0;34m,\u001b[0m \u001b[0mindex\u001b[0m\u001b[0;34m)\u001b[0m\u001b[0;34m:\u001b[0m\u001b[0;34m\u001b[0m\u001b[0;34m\u001b[0m\u001b[0m\n\u001b[0;32m---> 10\u001b[0;31m         \u001b[0;32mreturn\u001b[0m \u001b[0mself\u001b[0m\u001b[0;34m.\u001b[0m\u001b[0mx_data\u001b[0m\u001b[0;34m[\u001b[0m\u001b[0mindex\u001b[0m\u001b[0;34m]\u001b[0m\u001b[0;34m,\u001b[0m \u001b[0mself\u001b[0m\u001b[0;34m.\u001b[0m\u001b[0my_data\u001b[0m\u001b[0;34m[\u001b[0m\u001b[0mindex\u001b[0m\u001b[0;34m]\u001b[0m\u001b[0;34m\u001b[0m\u001b[0;34m\u001b[0m\u001b[0m\n\u001b[0m\u001b[1;32m     11\u001b[0m \u001b[0;34m\u001b[0m\u001b[0m\n\u001b[1;32m     12\u001b[0m     \u001b[0;31m# we can call len(dataset) to return the size\u001b[0m\u001b[0;34m\u001b[0m\u001b[0;34m\u001b[0m\u001b[0;34m\u001b[0m\u001b[0m\n",
            "\u001b[0;31mKeyboardInterrupt\u001b[0m: "
          ]
        }
      ]
    }
  ],
  "metadata": {
    "accelerator": "GPU",
    "colab": {
      "collapsed_sections": [
        "g6lcj4lLzRnb"
      ],
      "name": "PyTorch_Model_v4_Sherpa.ipynb",
      "provenance": [],
      "include_colab_link": true
    },
    "kernelspec": {
      "display_name": "Python 3",
      "language": "python",
      "name": "python3"
    },
    "language_info": {
      "codemirror_mode": {
        "name": "ipython",
        "version": 3
      },
      "file_extension": ".py",
      "mimetype": "text/x-python",
      "name": "python",
      "nbconvert_exporter": "python",
      "pygments_lexer": "ipython3",
      "version": "3.8.3"
    }
  },
  "nbformat": 4,
  "nbformat_minor": 0
}